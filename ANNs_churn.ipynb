{
  "cells": [
    {
      "cell_type": "markdown",
      "metadata": {
        "id": "view-in-github",
        "colab_type": "text"
      },
      "source": [
        "<a href=\"https://colab.research.google.com/github/ndthanhthuyf11/churn_prediction/blob/main/ANNs_churn.ipynb\" target=\"_parent\"><img src=\"https://colab.research.google.com/assets/colab-badge.svg\" alt=\"Open In Colab\"/></a>"
      ]
    },
    {
      "cell_type": "markdown",
      "metadata": {
        "id": "iOFtFgYqP4-z"
      },
      "source": [
        "##libs"
      ]
    },
    {
      "cell_type": "code",
      "execution_count": null,
      "metadata": {
        "colab": {
          "base_uri": "https://localhost:8080/"
        },
        "id": "lXpBWF8EPlgu",
        "outputId": "528c38fe-b4e3-423c-aa96-a6a509710bbe"
      },
      "outputs": [
        {
          "name": "stdout",
          "output_type": "stream",
          "text": [
            "Looking in indexes: https://pypi.org/simple, https://us-python.pkg.dev/colab-wheels/public/simple/\n",
            "Collecting ann_visualizer\n",
            "  Downloading ann_visualizer-2.5.tar.gz (4.7 kB)\n",
            "Building wheels for collected packages: ann-visualizer\n",
            "  Building wheel for ann-visualizer (setup.py) ... \u001b[?25l\u001b[?25hdone\n",
            "  Created wheel for ann-visualizer: filename=ann_visualizer-2.5-py3-none-any.whl size=4168 sha256=0cb4a676f0b6b45b3a4faaee80ed79fbf39076bbfa57118254720bdac84c1182\n",
            "  Stored in directory: /root/.cache/pip/wheels/1b/fc/58/2ab1c3b30350105929308becddda4fb59b1358e54f985e1f4a\n",
            "Successfully built ann-visualizer\n",
            "Installing collected packages: ann-visualizer\n",
            "Successfully installed ann-visualizer-2.5\n",
            "Looking in indexes: https://pypi.org/simple, https://us-python.pkg.dev/colab-wheels/public/simple/\n",
            "Requirement already satisfied: graphviz in /usr/local/lib/python3.7/dist-packages (0.10.1)\n"
          ]
        }
      ],
      "source": [
        "!pip3 install ann_visualizer\n",
        "!pip install graphviz\n",
        "from ann_visualizer.visualize import ann_viz"
      ]
    },
    {
      "cell_type": "code",
      "execution_count": null,
      "metadata": {
        "id": "Y2YEQy9iixEj"
      },
      "outputs": [],
      "source": [
        "#libs\n",
        "import pandas as pd\n",
        "import numpy as np\n",
        "from sklearn.model_selection import train_test_split\n",
        "from sklearn.preprocessing import StandardScaler\n",
        "from sklearn.metrics import confusion_matrix , classification_report, accuracy_score\n",
        "import matplotlib.pyplot as plt\n",
        "import seaborn as sns\n",
        "#libs for ANNs\n",
        "# from keras.wrappers.scikit_learn import KerasClassifier as keras\n",
        "from tensorflow import keras\n",
        "from sklearn.model_selection import cross_val_score\n",
        "from keras.models import Sequential\n",
        "from keras.layers import Dense, Dropout\n",
        "# from keras.layers import Dropout\n",
        "from keras.wrappers.scikit_learn import KerasClassifier\n"
      ]
    },
    {
      "cell_type": "code",
      "execution_count": null,
      "metadata": {
        "colab": {
          "base_uri": "https://localhost:8080/"
        },
        "id": "_wDdAfYpjgiW",
        "outputId": "c75beeb3-e26e-49c4-853c-14360ed061a1"
      },
      "outputs": [
        {
          "name": "stdout",
          "output_type": "stream",
          "text": [
            "Mounted at /content/gdrive\n"
          ]
        }
      ],
      "source": [
        "#mounted\n",
        "from google.colab import drive \n",
        "drive.mount('/content/gdrive')"
      ]
    },
    {
      "cell_type": "markdown",
      "metadata": {
        "id": "oXFxboF24UcQ"
      },
      "source": [
        "#Functions"
      ]
    },
    {
      "cell_type": "markdown",
      "metadata": {
        "id": "uAPQDQNKC7WG"
      },
      "source": [
        "https://stats.stackexchange.com/questions/181/how-to-choose-the-number-of-hidden-layers-and-nodes-in-a-feedforward-neural-netw\n",
        "\n",
        "There are many rule-of-thumb methods for determining the correct number of neurons to use in the hidden layers, such as the following:\n",
        "\n",
        "* The number of hidden neurons should be between the size of the input layer and the size of the output layer.\n",
        "* The number of hidden neurons should be 2/3 the size of the input layer, plus the size of the output layer.\n",
        "* The number of hidden neurons should be less than twice the size of the input layer."
      ]
    },
    {
      "cell_type": "markdown",
      "metadata": {
        "id": "fQo3UkT3DSuw"
      },
      "source": [
        "• Number of hidden nodes: There is no magic formula for selecting the optimum number of hidden neurons. However, some thumb rules are available for calculating the number of hidden neurons. A rough approximation can be obtained by the geometric pyramid rule proposed by Masters (1993). For a three layer network with n input and m output neurons, the hidden layer would have n∗m−−−−−√ neurons."
      ]
    },
    {
      "cell_type": "code",
      "execution_count": null,
      "metadata": {
        "id": "4p0P7PcpUt0t"
      },
      "outputs": [],
      "source": [
        "def add_exp(df, name, optimizer, epochs, num_layers, data, acc):\n",
        "  arr = [name, optimizer, epochs, num_layers, data, acc]\n",
        "  df.loc[len(df)] = arr\n",
        "  return df\n",
        "  # return pd.concat([arr, df.loc[:]]).reset_index(drop=True)"
      ]
    },
    {
      "cell_type": "markdown",
      "metadata": {
        "id": "DSnpAjHa7NWD"
      },
      "source": [
        "**phải thêm early_stopping nữa**"
      ]
    },
    {
      "cell_type": "code",
      "execution_count": null,
      "metadata": {
        "id": "lYkJLeyU4UDZ"
      },
      "outputs": [],
      "source": [
        "def modeling_ann(x_train, y_train, input, epoch, batch):\n",
        "  ann = Sequential()\n",
        "  # adding the input layer and the first hidden layer\n",
        "  ann.add(Dense(units = 5, kernel_initializer = 'uniform', activation = 'relu', input_dim = 10))\n",
        "\n",
        "  # adding the second hidden layer\n",
        "  ann.add(Dense(units = 5, kernel_initializer = 'uniform', activation = 'relu'))\n",
        "\n",
        "  # adding the output layer\n",
        "  ann.add(Dense(units = 1, kernel_initializer = 'uniform', activation = 'sigmoid'))\n",
        "\n",
        "  #complie\n",
        "  ann.compile(optimizer='adam',\n",
        "                loss='binary_crossentropy',\n",
        "                metrics=['accuracy'])\n",
        "  # fit the model\n",
        "  ann.fit(x_train, y_train, batch_size = batch, epochs = epoch, verbose = 0)\n",
        "\n",
        "\n",
        "  return ann"
      ]
    },
    {
      "cell_type": "code",
      "execution_count": null,
      "metadata": {
        "id": "p2AMYtmGlB1n"
      },
      "outputs": [],
      "source": [
        "def modeling_ann_dropout(x_train, y_train, input, epoch, batch):\n",
        "  ann = Sequential()\n",
        "  # adding the input layer and the first hidden layer\n",
        "  ann.add(Dense(units = 5, kernel_initializer = 'uniform', activation = 'relu', input_dim = 10))\n",
        "  ann.add(Dropout(rate = 0.1))\n",
        "\n",
        "  # adding the second hidden layer\n",
        "  ann.add(Dense(units = 5, kernel_initializer = 'uniform', activation = 'relu'))\n",
        "  ann.add(Dropout(rate = 0.1))\n",
        "  \n",
        "  # adding the output layer\n",
        "  ann.add(Dense(units = 1, kernel_initializer = 'uniform', activation = 'sigmoid'))\n",
        "\n",
        "  #complie\n",
        "  ann.compile(optimizer='adam',\n",
        "                loss='binary_crossentropy',\n",
        "                metrics=['accuracy'])\n",
        "  # fit the model\n",
        "  ann.fit(x_train, y_train, batch_size = batch, epochs = epoch, verbose = 0)\n",
        "  \n",
        "  return ann"
      ]
    },
    {
      "cell_type": "code",
      "execution_count": null,
      "metadata": {
        "id": "vkRvaVmy-3v-"
      },
      "outputs": [],
      "source": [
        "def modeling_ann_earlystopping(x_train, y_train, input, epoch, batch):\n",
        "  ann = Sequential()\n",
        "  # adding the input layer and the first hidden layer\n",
        "  ann.add(Dense(units = 5, kernel_initializer = 'uniform', activation = 'relu', input_dim = 10))\n",
        "\n",
        "  # adding the second hidden layer\n",
        "  ann.add(Dense(units = 5, kernel_initializer = 'uniform', activation = 'relu'))\n",
        "  # adding the output layer\n",
        "  ann.add(Dense(units = 1, kernel_initializer = 'uniform', activation = 'sigmoid'))\n",
        "  \n",
        "  # add early stopping\n",
        "  early_stopping = keras.callbacks.EarlyStopping(\n",
        "      monitor='val_loss', min_delta=0, patience=5, verbose=0,\n",
        "      mode='auto', baseline=None, restore_best_weights= True\n",
        "  )\n",
        "  ann.compile(optimizer='adam', loss='binary_crossentropy', metrics=['accuracy'])\n",
        "\n",
        "  # fit\n",
        "  ann.fit(x_train, y_train, epochs=epoch, batch_size = 32, callbacks = early_stopping, validation_split=0.20)\n",
        "  \n",
        "  return ann"
      ]
    },
    {
      "cell_type": "code",
      "execution_count": null,
      "metadata": {
        "id": "rMhyGMFcnUCo"
      },
      "outputs": [],
      "source": [
        "def get_scores(model, x_test, y_test):\n",
        "  y_pred = model.predict(x_test)\n",
        "  y_pred = (y_pred > 0.5)\n",
        "  score, acc = model.evaluate(x_test, y_test)\n",
        "  print(classification_report(y_test,y_pred))\n",
        "  return score, acc"
      ]
    },
    {
      "cell_type": "code",
      "execution_count": null,
      "metadata": {
        "id": "eIh9wkqHluI4"
      },
      "outputs": [],
      "source": [
        "# model = modeling_ann_dropout(x_train, y_train, 10, 30, 32)"
      ]
    },
    {
      "cell_type": "code",
      "execution_count": null,
      "metadata": {
        "id": "fhcyar_jmOq6"
      },
      "outputs": [],
      "source": [
        "\n",
        "# score, acc = get_scores(model, x_test, y_test)\n",
        "# print('Test score:', score)\n",
        "# print('Test accuracy:', acc)\n"
      ]
    },
    {
      "cell_type": "code",
      "execution_count": null,
      "metadata": {
        "id": "LeXULN98EFcj"
      },
      "outputs": [],
      "source": []
    },
    {
      "cell_type": "markdown",
      "metadata": {
        "id": "GfDNmKS64FVu"
      },
      "source": [
        "#First view"
      ]
    },
    {
      "cell_type": "code",
      "execution_count": null,
      "metadata": {
        "id": "5dyJKU-Ojrqd"
      },
      "outputs": [],
      "source": [
        "#read data\n",
        "path = \"/content/gdrive/Shareddrives/DA with R-Python/0.Project/Source code/asset/\"\n",
        "df1 = pd.read_csv(path+\"internet_churncleaned2575.csv\")\n",
        "df2 = pd.read_csv(path+\"internet_churncleaned0595.csv\")\n",
        "\n",
        "df_org = pd.read_csv(path+\"internet_churncleaned.csv\")"
      ]
    },
    {
      "cell_type": "code",
      "execution_count": null,
      "metadata": {
        "colab": {
          "base_uri": "https://localhost:8080/",
          "height": 374
        },
        "id": "EOHx-nQTJCfW",
        "outputId": "1c9b5e8f-a84b-491d-f3b7-429d93a72113"
      },
      "outputs": [
        {
          "data": {
            "image/png": "[encoded data removed]",
            "text/plain": [
              "<Figure size 720x432 with 1 Axes>"
            ]
          },
          "metadata": {},
          "output_type": "display_data"
        }
      ],
      "source": [
        "df_churn = pd.DataFrame(data={'value': df1.churn.unique(), 'counts':df1.churn.value_counts()})\n",
        "      \n",
        "fig, ax = plt.subplots(figsize=(10,6))\n",
        "ax.bar(df_churn['value'], df_churn['counts'], width=0.5)\n",
        "ax.set_xticks(df_churn['value']) \n",
        "# ax.bar(df.churn.unique(), df.churn.value_counts)\n",
        "plt.show()\n"
      ]
    },
    {
      "cell_type": "code",
      "execution_count": null,
      "metadata": {
        "colab": {
          "base_uri": "https://localhost:8080/",
          "height": 533
        },
        "id": "VgQnxi04ibBf",
        "outputId": "2ffa9a4e-1bee-487b-d8e1-dfbbd311f18c"
      },
      "outputs": [
        {
          "data": {
            "text/plain": [
              "<matplotlib.axes._subplots.AxesSubplot at 0x7f98c9bbe050>"
            ]
          },
          "execution_count": 14,
          "metadata": {},
          "output_type": "execute_result"
        },
        {
          "data": {
            "image/png": "[encoded data removed]",
            "text/plain": [
              "<Figure size 720x432 with 2 Axes>"
            ]
          },
          "metadata": {},
          "output_type": "display_data"
        }
      ],
      "source": [
        "plt.figure(figsize=(10, 6))\n",
        "sns.heatmap(df1.corr(), cmap = 'YlGnBu', annot = True)"
      ]
    },
    {
      "cell_type": "code",
      "execution_count": null,
      "metadata": {
        "colab": {
          "base_uri": "https://localhost:8080/",
          "height": 533
        },
        "id": "z4WiAd51jDsl",
        "outputId": "68460d01-53f0-48eb-d3a4-2ddcc24cd5e5"
      },
      "outputs": [
        {
          "data": {
            "text/plain": [
              "<matplotlib.axes._subplots.AxesSubplot at 0x7f98c20632d0>"
            ]
          },
          "execution_count": 15,
          "metadata": {},
          "output_type": "execute_result"
        },
        {
          "data": {
            "image/png": "[encoded data removed]",
            "text/plain": [
              "<Figure size 720x432 with 2 Axes>"
            ]
          },
          "metadata": {},
          "output_type": "display_data"
        }
      ],
      "source": [
        "plt.figure(figsize=(10, 6))\n",
        "sns.heatmap(df2.corr(), cmap = 'YlGnBu', annot = True)"
      ]
    },
    {
      "cell_type": "code",
      "execution_count": null,
      "metadata": {
        "colab": {
          "base_uri": "https://localhost:8080/",
          "height": 49
        },
        "id": "zFE1zr41HoL4",
        "outputId": "676f8a8c-adbe-4701-b729-324f9d36c77b"
      },
      "outputs": [
        {
          "data": {
            "text/html": [
              "\n",
              "  <div id=\"df-493edfd4-21a2-44eb-999b-dbd8c2f9817f\">\n",
              "    <div class=\"colab-df-container\">\n",
              "      <div>\n",
              "<style scoped>\n",
              "    .dataframe tbody tr th:only-of-type {\n",
              "        vertical-align: middle;\n",
              "    }\n",
              "\n",
              "    .dataframe tbody tr th {\n",
              "        vertical-align: top;\n",
              "    }\n",
              "\n",
              "    .dataframe thead th {\n",
              "        text-align: right;\n",
              "    }\n",
              "</style>\n",
              "<table border=\"1\" class=\"dataframe\">\n",
              "  <thead>\n",
              "    <tr style=\"text-align: right;\">\n",
              "      <th></th>\n",
              "      <th>name</th>\n",
              "      <th>optimizer</th>\n",
              "      <th>epochs</th>\n",
              "      <th>num_hidden_layers</th>\n",
              "      <th>dataset</th>\n",
              "      <th>accuracy</th>\n",
              "    </tr>\n",
              "  </thead>\n",
              "  <tbody>\n",
              "  </tbody>\n",
              "</table>\n",
              "</div>\n",
              "      <button class=\"colab-df-convert\" onclick=\"convertToInteractive('df-493edfd4-21a2-44eb-999b-dbd8c2f9817f')\"\n",
              "              title=\"Convert this dataframe to an interactive table.\"\n",
              "              style=\"display:none;\">\n",
              "        \n",
              "  <svg xmlns=\"http://www.w3.org/2000/svg\" height=\"24px\"viewBox=\"0 0 24 24\"\n",
              "       width=\"24px\">\n",
              "    <path d=\"M0 0h24v24H0V0z\" fill=\"none\"/>\n",
              "    <path d=\"M18.56 5.44l.94 2.06.94-2.06 2.06-.94-2.06-.94-.94-2.06-.94 2.06-2.06.94zm-11 1L8.5 8.5l.94-2.06 2.06-.94-2.06-.94L8.5 2.5l-.94 2.06-2.06.94zm10 10l.94 2.06.94-2.06 2.06-.94-2.06-.94-.94-2.06-.94 2.06-2.06.94z\"/><path d=\"M17.41 7.96l-1.37-1.37c-.4-.4-.92-.59-1.43-.59-.52 0-1.04.2-1.43.59L10.3 9.45l-7.72 7.72c-.78.78-.78 2.05 0 2.83L4 21.41c.39.39.9.59 1.41.59.51 0 1.02-.2 1.41-.59l7.78-7.78 2.81-2.81c.8-.78.8-2.07 0-2.86zM5.41 20L4 18.59l7.72-7.72 1.47 1.35L5.41 20z\"/>\n",
              "  </svg>\n",
              "      </button>\n",
              "      \n",
              "  <style>\n",
              "    .colab-df-container {\n",
              "      display:flex;\n",
              "      flex-wrap:wrap;\n",
              "      gap: 12px;\n",
              "    }\n",
              "\n",
              "    .colab-df-convert {\n",
              "      background-color: #E8F0FE;\n",
              "      border: none;\n",
              "      border-radius: 50%;\n",
              "      cursor: pointer;\n",
              "      display: none;\n",
              "      fill: #1967D2;\n",
              "      height: 32px;\n",
              "      padding: 0 0 0 0;\n",
              "      width: 32px;\n",
              "    }\n",
              "\n",
              "    .colab-df-convert:hover {\n",
              "      background-color: #E2EBFA;\n",
              "      box-shadow: 0px 1px 2px rgba(60, 64, 67, 0.3), 0px 1px 3px 1px rgba(60, 64, 67, 0.15);\n",
              "      fill: #174EA6;\n",
              "    }\n",
              "\n",
              "    [theme=dark] .colab-df-convert {\n",
              "      background-color: #3B4455;\n",
              "      fill: #D2E3FC;\n",
              "    }\n",
              "\n",
              "    [theme=dark] .colab-df-convert:hover {\n",
              "      background-color: #434B5C;\n",
              "      box-shadow: 0px 1px 3px 1px rgba(0, 0, 0, 0.15);\n",
              "      filter: drop-shadow(0px 1px 2px rgba(0, 0, 0, 0.3));\n",
              "      fill: #FFFFFF;\n",
              "    }\n",
              "  </style>\n",
              "\n",
              "      <script>\n",
              "        const buttonEl =\n",
              "          document.querySelector('#df-493edfd4-21a2-44eb-999b-dbd8c2f9817f button.colab-df-convert');\n",
              "        buttonEl.style.display =\n",
              "          google.colab.kernel.accessAllowed ? 'block' : 'none';\n",
              "\n",
              "        async function convertToInteractive(key) {\n",
              "          const element = document.querySelector('#df-493edfd4-21a2-44eb-999b-dbd8c2f9817f');\n",
              "          const dataTable =\n",
              "            await google.colab.kernel.invokeFunction('convertToInteractive',\n",
              "                                                     [key], {});\n",
              "          if (!dataTable) return;\n",
              "\n",
              "          const docLinkHtml = 'Like what you see? Visit the ' +\n",
              "            '<a target=\"_blank\" href=https://colab.research.google.com/notebooks/data_table.ipynb>data table notebook</a>'\n",
              "            + ' to learn more about interactive tables.';\n",
              "          element.innerHTML = '';\n",
              "          dataTable['output_type'] = 'display_data';\n",
              "          await google.colab.output.renderOutput(dataTable, element);\n",
              "          const docLink = document.createElement('div');\n",
              "          docLink.innerHTML = docLinkHtml;\n",
              "          element.appendChild(docLink);\n",
              "        }\n",
              "      </script>\n",
              "    </div>\n",
              "  </div>\n",
              "  "
            ],
            "text/plain": [
              "Empty DataFrame\n",
              "Columns: [name, optimizer, epochs, num_hidden_layers, dataset, accuracy]\n",
              "Index: []"
            ]
          },
          "execution_count": 16,
          "metadata": {},
          "output_type": "execute_result"
        }
      ],
      "source": [
        "df_exp = pd.DataFrame(columns=['name', 'optimizer', 'epochs', 'num_hidden_layers', 'dataset', 'accuracy'])\n",
        "df_exp"
      ]
    },
    {
      "cell_type": "markdown",
      "metadata": {
        "id": "Cn-jMfDvkF8V"
      },
      "source": [
        "#ANNs - df_org\n"
      ]
    },
    {
      "cell_type": "markdown",
      "metadata": {
        "id": "7q6eI9bojAJH"
      },
      "source": [
        "\n",
        "\n",
        "*   https://medium.com/m/global-identity?redirectUrl=https%3A%2F%2Fpython.plainenglish.io%2Fchurn-prediction-with-artificial-neural-networks-73ae4179f5dd\n",
        "*   https://www.kaggle.com/code/javapocalypse/customer-churn-modelling-using-ann-86-accuracy\n",
        "*https://www.kaggle.com/code/shrutimechlearn/deep-tutorial-1-ann-and-classification/notebook\n",
        "\n"
      ]
    },
    {
      "cell_type": "code",
      "execution_count": null,
      "metadata": {
        "id": "8GoF90XDj0wE"
      },
      "outputs": [],
      "source": [
        "x = df_org.drop(['churn', 'id'],axis=1)\n",
        "y = df_org['churn']\n",
        "#split train:test\n",
        "x_train, x_test, y_train, y_test = train_test_split(x,y,test_size=0.3,random_state=5)"
      ]
    },
    {
      "cell_type": "code",
      "execution_count": null,
      "metadata": {
        "colab": {
          "base_uri": "https://localhost:8080/"
        },
        "id": "VKGWycIQkzXO",
        "outputId": "115be3c8-d058-456b-ea37-fe5109cce98c"
      },
      "outputs": [
        {
          "data": {
            "text/plain": [
              "(71893, 12)"
            ]
          },
          "execution_count": 11,
          "metadata": {},
          "output_type": "execute_result"
        }
      ],
      "source": [
        "df_org.shape"
      ]
    },
    {
      "cell_type": "code",
      "execution_count": null,
      "metadata": {
        "colab": {
          "base_uri": "https://localhost:8080/"
        },
        "id": "ymCIsyQBlMYy",
        "outputId": "8f0c3ad5-4bf7-432f-dbb3-509b7459e2ea"
      },
      "outputs": [
        {
          "data": {
            "text/plain": [
              "(50325, 10)"
            ]
          },
          "execution_count": 12,
          "metadata": {},
          "output_type": "execute_result"
        }
      ],
      "source": [
        "x_train.shape\n"
      ]
    },
    {
      "cell_type": "code",
      "execution_count": null,
      "metadata": {
        "colab": {
          "base_uri": "https://localhost:8080/"
        },
        "id": "ipodEwihn7G8",
        "outputId": "867fcb6d-81ce-4619-a71a-3e91875ba2bd"
      },
      "outputs": [
        {
          "data": {
            "text/plain": [
              "(21568, 10)"
            ]
          },
          "execution_count": 13,
          "metadata": {},
          "output_type": "execute_result"
        }
      ],
      "source": [
        "x_test.shape"
      ]
    },
    {
      "cell_type": "markdown",
      "metadata": {
        "id": "3meL9I1g-JJc"
      },
      "source": [
        "## early stopping"
      ]
    },
    {
      "cell_type": "code",
      "execution_count": null,
      "metadata": {
        "colab": {
          "base_uri": "https://localhost:8080/"
        },
        "id": "mqZGi8jok_Xk",
        "outputId": "40b75669-ab3c-445e-8b5a-db5fdec0f252"
      },
      "outputs": [
        {
          "name": "stdout",
          "output_type": "stream",
          "text": [
            "Epoch 1/10\n",
            "1573/1573 [==============================] - 4s 2ms/step - loss: 0.5160 - accuracy: 0.8238\n",
            "Epoch 2/10\n",
            "1573/1573 [==============================] - 3s 2ms/step - loss: 0.3619 - accuracy: 0.8845\n",
            "Epoch 3/10\n",
            "1573/1573 [==============================] - 3s 2ms/step - loss: 0.3408 - accuracy: 0.8828\n",
            "Epoch 4/10\n",
            "1573/1573 [==============================] - 3s 2ms/step - loss: 0.3342 - accuracy: 0.8825\n",
            "Epoch 5/10\n",
            "1573/1573 [==============================] - 3s 2ms/step - loss: 0.3316 - accuracy: 0.8834\n",
            "Epoch 6/10\n",
            "1573/1573 [==============================] - 3s 2ms/step - loss: 0.3302 - accuracy: 0.8827\n",
            "Epoch 7/10\n",
            "1573/1573 [==============================] - 3s 2ms/step - loss: 0.3296 - accuracy: 0.8832\n",
            "Epoch 8/10\n",
            "1573/1573 [==============================] - 3s 2ms/step - loss: 0.3282 - accuracy: 0.8841\n",
            "Epoch 9/10\n",
            "1573/1573 [==============================] - 3s 2ms/step - loss: 0.3284 - accuracy: 0.8832\n",
            "Epoch 10/10\n",
            "1573/1573 [==============================] - 3s 2ms/step - loss: 0.3270 - accuracy: 0.8845\n"
          ]
        },
        {
          "data": {
            "text/plain": [
              "<keras.callbacks.History at 0x7fa4973a6390>"
            ]
          },
          "execution_count": 20,
          "metadata": {},
          "output_type": "execute_result"
        }
      ],
      "source": [
        "\n",
        "ann = Sequential()\n",
        "# adding the input layer and the first hidden layer\n",
        "ann.add(Dense(units = 5, kernel_initializer = 'uniform', activation = 'relu', input_dim = 10))\n",
        "\n",
        "# adding the second hidden layer\n",
        "ann.add(Dense(units = 3, kernel_initializer = 'uniform', activation = 'relu'))\n",
        "# adding the output layer\n",
        "ann.add(Dense(units = 1, kernel_initializer = 'uniform', activation = 'sigmoid'))\n",
        "\n",
        "# early_stopping = keras.callbacks.EarlyStopping(\n",
        "#     monitor='val_loss', min_delta=0, patience=5, verbose=0,\n",
        "#     mode='auto', baseline=None, restore_best_weights= True\n",
        "# )\n",
        "ann.compile(optimizer='adam',\n",
        "              loss='binary_crossentropy',\n",
        "              metrics=['accuracy'])\n",
        "\n",
        "# fit\n",
        "ann.fit(x_train, y_train, epochs=10, batch_size = 32\n",
        "        # , callbacks = early_stopping, validation_split=0.20\n",
        "        )\n",
        "# classifier.fit(X_train, y_train, batch_size = 32, epochs = 100,verbose = 0)\n"
      ]
    },
    {
      "cell_type": "code",
      "execution_count": null,
      "metadata": {
        "colab": {
          "base_uri": "https://localhost:8080/"
        },
        "id": "5FSh3YYitdWg",
        "outputId": "32b2bdf8-922a-4ed6-8bea-be7cfb6558ad"
      },
      "outputs": [
        {
          "name": "stdout",
          "output_type": "stream",
          "text": [
            "674/674 [==============================] - 1s 1ms/step\n",
            "674/674 [==============================] - 1s 2ms/step - loss: 0.3259 - accuracy: 0.8825\n",
            "              precision    recall  f1-score   support\n",
            "\n",
            "           0       0.90      0.83      0.86      9581\n",
            "           1       0.87      0.93      0.90     11987\n",
            "\n",
            "    accuracy                           0.88     21568\n",
            "   macro avg       0.89      0.88      0.88     21568\n",
            "weighted avg       0.88      0.88      0.88     21568\n",
            "\n"
          ]
        }
      ],
      "source": [
        "score, acc = get_scores(ann, x_test, y_test)"
      ]
    },
    {
      "cell_type": "code",
      "execution_count": null,
      "metadata": {
        "id": "uTobiC_Z-NqQ"
      },
      "outputs": [],
      "source": [
        "def build_classifier():\n",
        "    classifier = Sequential()\n",
        "    classifier.add(Dense(units = 5, kernel_initializer = 'uniform', activation = 'relu', input_dim = 10))\n",
        "    classifier.add(Dense(units = 3, kernel_initializer = 'uniform', activation = 'relu'))\n",
        "    classifier.add(Dense(units = 1, kernel_initializer = 'uniform', activation = 'sigmoid'))\n",
        "    classifier.compile(optimizer = 'adam', loss = 'binary_crossentropy', metrics = ['accuracy'])\n",
        "    return classifier\n",
        "classifier = KerasClassifier(build_fn = build_classifier, batch_size = 10, epochs = 20,verbose=0)\n",
        "accuracies = cross_val_score(estimator = classifier, X = x_train, y = y_train, cv = 10)"
      ]
    },
    {
      "cell_type": "code",
      "execution_count": null,
      "metadata": {
        "colab": {
          "base_uri": "https://localhost:8080/"
        },
        "id": "64IY_2ZzM6PG",
        "outputId": "ffbaad3d-dd84-445c-a6ea-d83e06362733"
      },
      "outputs": [
        {
          "name": "stdout",
          "output_type": "stream",
          "text": [
            "0.921489953994751 0.013168073288205863\n"
          ]
        }
      ],
      "source": [
        "mean = accuracies.mean()\n",
        "variance = accuracies.std()\n",
        "print(mean, variance)"
      ]
    },
    {
      "cell_type": "markdown",
      "metadata": {
        "id": "of1ENdich1Kc"
      },
      "source": [
        "#ANNs -  Scale "
      ]
    },
    {
      "cell_type": "code",
      "execution_count": null,
      "metadata": {
        "id": "TGpPy_hljj4w"
      },
      "outputs": [],
      "source": [
        "scale = StandardScaler()\n",
        "x_train_sc = scale.fit_transform(x_train)\n",
        "x_test_sc = scale.transform(x_test)"
      ]
    },
    {
      "cell_type": "code",
      "execution_count": null,
      "metadata": {
        "colab": {
          "base_uri": "https://localhost:8080/"
        },
        "id": "2TKxuJnles1H",
        "outputId": "db1d6e83-9af2-4dcd-c807-a7855a415066"
      },
      "outputs": [
        {
          "name": "stdout",
          "output_type": "stream",
          "text": [
            "Epoch 1/10\n",
            "1573/1573 [==============================] - 5s 3ms/step - loss: 0.3435 - accuracy: 0.8638\n",
            "Epoch 2/10\n",
            "1573/1573 [==============================] - 4s 3ms/step - loss: 0.2764 - accuracy: 0.9025\n",
            "Epoch 3/10\n",
            "1573/1573 [==============================] - 4s 3ms/step - loss: 0.2633 - accuracy: 0.9087\n",
            "Epoch 4/10\n",
            "1573/1573 [==============================] - 5s 3ms/step - loss: 0.2543 - accuracy: 0.9126\n",
            "Epoch 5/10\n",
            "1573/1573 [==============================] - 4s 3ms/step - loss: 0.2477 - accuracy: 0.9164\n",
            "Epoch 6/10\n",
            "1573/1573 [==============================] - 4s 3ms/step - loss: 0.2422 - accuracy: 0.9186\n",
            "Epoch 7/10\n",
            "1573/1573 [==============================] - 4s 3ms/step - loss: 0.2376 - accuracy: 0.9203\n",
            "Epoch 8/10\n",
            "1573/1573 [==============================] - 5s 3ms/step - loss: 0.2345 - accuracy: 0.9210\n",
            "Epoch 9/10\n",
            "1573/1573 [==============================] - 5s 3ms/step - loss: 0.2315 - accuracy: 0.9225\n",
            "Epoch 10/10\n",
            "1573/1573 [==============================] - 5s 3ms/step - loss: 0.2290 - accuracy: 0.9231\n"
          ]
        }
      ],
      "source": [
        "# ann = keras.Sequential([\n",
        "#     keras.layers.Dense(10, input_shape=(10,), activation='relu'),\n",
        "#     keras.layers.Dense(5, activation='relu'),\n",
        "#     keras.layers.Dense(1, activation='sigmoid')\n",
        "# ])\n",
        "\n",
        "# ann.compile(optimizer='adam',\n",
        "#               loss='binary_crossentropy',\n",
        "#               metrics=['accuracy'])\n",
        "# history = ann.fit(x_train_sc, y_train, epochs=10)"
      ]
    },
    {
      "cell_type": "code",
      "execution_count": null,
      "metadata": {
        "id": "s9mfxX-I9uGH"
      },
      "outputs": [],
      "source": [
        "#save model\n",
        "# ann.save(\"/content/gdrive/Shareddrives/DA with R-Python/0.Project/Models/ann\")\n"
      ]
    },
    {
      "cell_type": "code",
      "execution_count": null,
      "metadata": {
        "id": "wZaXSXDT-ee_"
      },
      "outputs": [],
      "source": [
        "#visualize ANNs network \n",
        "ann_viz(ann, view=True, title='ANNs', filename='/content/gdrive/Shareddrives/DA with R-Python/0.Project/img/ann.gv')"
      ]
    },
    {
      "cell_type": "markdown",
      "metadata": {
        "id": "coPVeE6uRv9_"
      },
      "source": [
        "https://towardsdatascience.com/visualizing-artificial-neural-networks-anns-with-just-one-line-of-code-b4233607209e"
      ]
    },
    {
      "cell_type": "code",
      "execution_count": null,
      "metadata": {
        "colab": {
          "base_uri": "https://localhost:8080/",
          "height": 206
        },
        "id": "tbX7A40-ciKS",
        "outputId": "5954eb8a-22fc-49a3-ef64-a833da013610"
      },
      "outputs": [
        {
          "data": {
            "text/html": [
              "\n",
              "  <div id=\"df-3440c97b-8379-4aa0-8224-f5e4f831e546\">\n",
              "    <div class=\"colab-df-container\">\n",
              "      <div>\n",
              "<style scoped>\n",
              "    .dataframe tbody tr th:only-of-type {\n",
              "        vertical-align: middle;\n",
              "    }\n",
              "\n",
              "    .dataframe tbody tr th {\n",
              "        vertical-align: top;\n",
              "    }\n",
              "\n",
              "    .dataframe thead th {\n",
              "        text-align: right;\n",
              "    }\n",
              "</style>\n",
              "<table border=\"1\" class=\"dataframe\">\n",
              "  <thead>\n",
              "    <tr style=\"text-align: right;\">\n",
              "      <th></th>\n",
              "      <th>name</th>\n",
              "      <th>optimizer</th>\n",
              "      <th>epochs</th>\n",
              "      <th>num_layers</th>\n",
              "      <th>dataset</th>\n",
              "      <th>accuracy</th>\n",
              "    </tr>\n",
              "  </thead>\n",
              "  <tbody>\n",
              "    <tr>\n",
              "      <th>0</th>\n",
              "      <td>ann 2575</td>\n",
              "      <td>adam</td>\n",
              "      <td>30</td>\n",
              "      <td>3</td>\n",
              "      <td>cleaned-2575</td>\n",
              "      <td>0.470451</td>\n",
              "    </tr>\n",
              "    <tr>\n",
              "      <th>1</th>\n",
              "      <td>ann - std scale</td>\n",
              "      <td>adam</td>\n",
              "      <td>30</td>\n",
              "      <td>3</td>\n",
              "      <td>cleaned-2575</td>\n",
              "      <td>0.977449</td>\n",
              "    </tr>\n",
              "    <tr>\n",
              "      <th>2</th>\n",
              "      <td>ann</td>\n",
              "      <td>adam</td>\n",
              "      <td>50</td>\n",
              "      <td>3</td>\n",
              "      <td>cleaned</td>\n",
              "      <td>0.760286</td>\n",
              "    </tr>\n",
              "    <tr>\n",
              "      <th>3</th>\n",
              "      <td>ann - std scale</td>\n",
              "      <td>adam</td>\n",
              "      <td>50</td>\n",
              "      <td>3</td>\n",
              "      <td>cleaned</td>\n",
              "      <td>0.980489</td>\n",
              "    </tr>\n",
              "    <tr>\n",
              "      <th>4</th>\n",
              "      <td>ann - std scale</td>\n",
              "      <td>adam</td>\n",
              "      <td>50</td>\n",
              "      <td>3</td>\n",
              "      <td>cleaned</td>\n",
              "      <td>0.985840</td>\n",
              "    </tr>\n",
              "  </tbody>\n",
              "</table>\n",
              "</div>\n",
              "      <button class=\"colab-df-convert\" onclick=\"convertToInteractive('df-3440c97b-8379-4aa0-8224-f5e4f831e546')\"\n",
              "              title=\"Convert this dataframe to an interactive table.\"\n",
              "              style=\"display:none;\">\n",
              "        \n",
              "  <svg xmlns=\"http://www.w3.org/2000/svg\" height=\"24px\"viewBox=\"0 0 24 24\"\n",
              "       width=\"24px\">\n",
              "    <path d=\"M0 0h24v24H0V0z\" fill=\"none\"/>\n",
              "    <path d=\"M18.56 5.44l.94 2.06.94-2.06 2.06-.94-2.06-.94-.94-2.06-.94 2.06-2.06.94zm-11 1L8.5 8.5l.94-2.06 2.06-.94-2.06-.94L8.5 2.5l-.94 2.06-2.06.94zm10 10l.94 2.06.94-2.06 2.06-.94-2.06-.94-.94-2.06-.94 2.06-2.06.94z\"/><path d=\"M17.41 7.96l-1.37-1.37c-.4-.4-.92-.59-1.43-.59-.52 0-1.04.2-1.43.59L10.3 9.45l-7.72 7.72c-.78.78-.78 2.05 0 2.83L4 21.41c.39.39.9.59 1.41.59.51 0 1.02-.2 1.41-.59l7.78-7.78 2.81-2.81c.8-.78.8-2.07 0-2.86zM5.41 20L4 18.59l7.72-7.72 1.47 1.35L5.41 20z\"/>\n",
              "  </svg>\n",
              "      </button>\n",
              "      \n",
              "  <style>\n",
              "    .colab-df-container {\n",
              "      display:flex;\n",
              "      flex-wrap:wrap;\n",
              "      gap: 12px;\n",
              "    }\n",
              "\n",
              "    .colab-df-convert {\n",
              "      background-color: #E8F0FE;\n",
              "      border: none;\n",
              "      border-radius: 50%;\n",
              "      cursor: pointer;\n",
              "      display: none;\n",
              "      fill: #1967D2;\n",
              "      height: 32px;\n",
              "      padding: 0 0 0 0;\n",
              "      width: 32px;\n",
              "    }\n",
              "\n",
              "    .colab-df-convert:hover {\n",
              "      background-color: #E2EBFA;\n",
              "      box-shadow: 0px 1px 2px rgba(60, 64, 67, 0.3), 0px 1px 3px 1px rgba(60, 64, 67, 0.15);\n",
              "      fill: #174EA6;\n",
              "    }\n",
              "\n",
              "    [theme=dark] .colab-df-convert {\n",
              "      background-color: #3B4455;\n",
              "      fill: #D2E3FC;\n",
              "    }\n",
              "\n",
              "    [theme=dark] .colab-df-convert:hover {\n",
              "      background-color: #434B5C;\n",
              "      box-shadow: 0px 1px 3px 1px rgba(0, 0, 0, 0.15);\n",
              "      filter: drop-shadow(0px 1px 2px rgba(0, 0, 0, 0.3));\n",
              "      fill: #FFFFFF;\n",
              "    }\n",
              "  </style>\n",
              "\n",
              "      <script>\n",
              "        const buttonEl =\n",
              "          document.querySelector('#df-3440c97b-8379-4aa0-8224-f5e4f831e546 button.colab-df-convert');\n",
              "        buttonEl.style.display =\n",
              "          google.colab.kernel.accessAllowed ? 'block' : 'none';\n",
              "\n",
              "        async function convertToInteractive(key) {\n",
              "          const element = document.querySelector('#df-3440c97b-8379-4aa0-8224-f5e4f831e546');\n",
              "          const dataTable =\n",
              "            await google.colab.kernel.invokeFunction('convertToInteractive',\n",
              "                                                     [key], {});\n",
              "          if (!dataTable) return;\n",
              "\n",
              "          const docLinkHtml = 'Like what you see? Visit the ' +\n",
              "            '<a target=\"_blank\" href=https://colab.research.google.com/notebooks/data_table.ipynb>data table notebook</a>'\n",
              "            + ' to learn more about interactive tables.';\n",
              "          element.innerHTML = '';\n",
              "          dataTable['output_type'] = 'display_data';\n",
              "          await google.colab.output.renderOutput(dataTable, element);\n",
              "          const docLink = document.createElement('div');\n",
              "          docLink.innerHTML = docLinkHtml;\n",
              "          element.appendChild(docLink);\n",
              "        }\n",
              "      </script>\n",
              "    </div>\n",
              "  </div>\n",
              "  "
            ],
            "text/plain": [
              "              name optimizer epochs num_layers       dataset  accuracy\n",
              "0         ann 2575      adam     30          3  cleaned-2575  0.470451\n",
              "1  ann - std scale      adam     30          3  cleaned-2575  0.977449\n",
              "2              ann      adam     50          3       cleaned  0.760286\n",
              "3  ann - std scale      adam     50          3       cleaned  0.980489\n",
              "4  ann - std scale      adam     50          3       cleaned  0.985840"
            ]
          },
          "execution_count": 125,
          "metadata": {},
          "output_type": "execute_result"
        }
      ],
      "source": [
        "add_exp(df_exp, 'ann - std scale', 'adam', 50, 3, 'cleaned', accuracy_score(y_test, y_pred))\n",
        "df_exp"
      ]
    },
    {
      "cell_type": "code",
      "execution_count": null,
      "metadata": {
        "colab": {
          "base_uri": "https://localhost:8080/"
        },
        "id": "j2xLuIDImSk_",
        "outputId": "8838d4e9-606f-43c6-a1e0-9074dcf0507f"
      },
      "outputs": [
        {
          "data": {
            "text/plain": [
              "dict_keys(['loss', 'accuracy'])"
            ]
          },
          "execution_count": 84,
          "metadata": {},
          "output_type": "execute_result"
        }
      ],
      "source": [
        "history.history.keys()"
      ]
    },
    {
      "cell_type": "code",
      "execution_count": null,
      "metadata": {
        "colab": {
          "base_uri": "https://localhost:8080/",
          "height": 404
        },
        "id": "nZio5Aj9maV4",
        "outputId": "e8353f7c-a3b9-4742-a031-3232928bf4cf"
      },
      "outputs": [
        {
          "data": {
            "image/png": "[encoded data removed]",
            "text/plain": [
              "<Figure size 720x432 with 1 Axes>"
            ]
          },
          "metadata": {},
          "output_type": "display_data"
        }
      ],
      "source": [
        "plt.figure(figsize=(10, 6))\n",
        "\n",
        "epochs = range(1, 10 + 1)\n",
        "train_loss = history.history['loss']\n",
        "acc = history.history['accuracy']\n",
        "\n",
        "plt.plot(epochs, train_loss, label=\"Training Loss\")\n",
        "plt.plot(epochs, acc, label=\"Accuracy\")\n",
        "\n",
        "plt.title(\"Training Loss and Accuracy\")\n",
        "plt.xlabel(\"Epoch\")\n",
        "plt.ylabel(\"Loss\")\n",
        "plt.legend()\n",
        "\n",
        "plt.show()"
      ]
    },
    {
      "cell_type": "markdown",
      "metadata": {
        "id": "-wvYLQpXP4l4"
      },
      "source": [
        "#ANNs with cleaned2575  - scale vs no scale"
      ]
    },
    {
      "cell_type": "code",
      "execution_count": null,
      "metadata": {
        "id": "P4ZbUX9mP3WE"
      },
      "outputs": [],
      "source": [
        "x1 = df1.drop(['churn', 'id'],axis=1)\n",
        "y1 = df1['churn']\n",
        "#split train:test = 7:3\n",
        "x_train1, x_test1, y_train1, y_test1 = train_test_split(x1,y1,test_size=0.3,random_state=5)"
      ]
    },
    {
      "cell_type": "code",
      "execution_count": null,
      "metadata": {
        "colab": {
          "base_uri": "https://localhost:8080/"
        },
        "id": "b6fjLCmiQMfP",
        "outputId": "09f2a036-d6d7-4d9f-b327-f1ce7f91145e"
      },
      "outputs": [
        {
          "data": {
            "text/plain": [
              "(33005, 9)"
            ]
          },
          "execution_count": 55,
          "metadata": {},
          "output_type": "execute_result"
        }
      ],
      "source": [
        "x_train1.shape"
      ]
    },
    {
      "cell_type": "code",
      "execution_count": null,
      "metadata": {
        "colab": {
          "base_uri": "https://localhost:8080/"
        },
        "id": "_bn1CXAlQPuy",
        "outputId": "c930b1a4-b585-434b-8e7e-8e4aeee3d43e"
      },
      "outputs": [
        {
          "data": {
            "text/plain": [
              "(14146, 9)"
            ]
          },
          "execution_count": 56,
          "metadata": {},
          "output_type": "execute_result"
        }
      ],
      "source": [
        "x_test1.shape"
      ]
    },
    {
      "cell_type": "code",
      "execution_count": null,
      "metadata": {
        "colab": {
          "base_uri": "https://localhost:8080/"
        },
        "id": "uVZyts3FrEga",
        "outputId": "985f61d0-b281-4cc2-82b4-c751aa1fcf74"
      },
      "outputs": [
        {
          "data": {
            "text/plain": [
              "Index(['id', 'is_tv_subscriber', 'is_movie_package_subscriber',\n",
              "       'subscription_age', 'bill_avg', 'remaining_contract',\n",
              "       'service_failure_count', 'download_avg', 'upload_avg',\n",
              "       'download_over_limit', 'churn'],\n",
              "      dtype='object')"
            ]
          },
          "execution_count": 59,
          "metadata": {},
          "output_type": "execute_result"
        }
      ],
      "source": [
        "df1.columns"
      ]
    },
    {
      "cell_type": "code",
      "execution_count": null,
      "metadata": {
        "colab": {
          "base_uri": "https://localhost:8080/",
          "height": 488
        },
        "id": "yiUjYMulq9u7",
        "outputId": "9c831de7-668c-430a-ac79-d1978f70edde"
      },
      "outputs": [
        {
          "data": {
            "text/html": [
              "\n",
              "  <div id=\"df-53accb3c-967f-45b0-9af3-e7cbf459899b\">\n",
              "    <div class=\"colab-df-container\">\n",
              "      <div>\n",
              "<style scoped>\n",
              "    .dataframe tbody tr th:only-of-type {\n",
              "        vertical-align: middle;\n",
              "    }\n",
              "\n",
              "    .dataframe tbody tr th {\n",
              "        vertical-align: top;\n",
              "    }\n",
              "\n",
              "    .dataframe thead th {\n",
              "        text-align: right;\n",
              "    }\n",
              "</style>\n",
              "<table border=\"1\" class=\"dataframe\">\n",
              "  <thead>\n",
              "    <tr style=\"text-align: right;\">\n",
              "      <th></th>\n",
              "      <th>is_tv_subscriber</th>\n",
              "      <th>is_movie_package_subscriber</th>\n",
              "      <th>subscription_age</th>\n",
              "      <th>bill_avg</th>\n",
              "      <th>remaining_contract</th>\n",
              "      <th>service_failure_count</th>\n",
              "      <th>download_avg</th>\n",
              "      <th>upload_avg</th>\n",
              "      <th>download_over_limit</th>\n",
              "    </tr>\n",
              "  </thead>\n",
              "  <tbody>\n",
              "    <tr>\n",
              "      <th>5911</th>\n",
              "      <td>1</td>\n",
              "      <td>1</td>\n",
              "      <td>1.43</td>\n",
              "      <td>17</td>\n",
              "      <td>0.00</td>\n",
              "      <td>0</td>\n",
              "      <td>0.0</td>\n",
              "      <td>0.0</td>\n",
              "      <td>0</td>\n",
              "    </tr>\n",
              "    <tr>\n",
              "      <th>46170</th>\n",
              "      <td>1</td>\n",
              "      <td>0</td>\n",
              "      <td>0.09</td>\n",
              "      <td>15</td>\n",
              "      <td>1.88</td>\n",
              "      <td>0</td>\n",
              "      <td>44.4</td>\n",
              "      <td>1.7</td>\n",
              "      <td>0</td>\n",
              "    </tr>\n",
              "    <tr>\n",
              "      <th>28742</th>\n",
              "      <td>1</td>\n",
              "      <td>0</td>\n",
              "      <td>2.76</td>\n",
              "      <td>25</td>\n",
              "      <td>0.00</td>\n",
              "      <td>0</td>\n",
              "      <td>44.6</td>\n",
              "      <td>2.0</td>\n",
              "      <td>0</td>\n",
              "    </tr>\n",
              "    <tr>\n",
              "      <th>21230</th>\n",
              "      <td>1</td>\n",
              "      <td>1</td>\n",
              "      <td>3.98</td>\n",
              "      <td>17</td>\n",
              "      <td>1.93</td>\n",
              "      <td>0</td>\n",
              "      <td>87.0</td>\n",
              "      <td>8.1</td>\n",
              "      <td>0</td>\n",
              "    </tr>\n",
              "    <tr>\n",
              "      <th>31539</th>\n",
              "      <td>1</td>\n",
              "      <td>1</td>\n",
              "      <td>2.11</td>\n",
              "      <td>18</td>\n",
              "      <td>1.81</td>\n",
              "      <td>0</td>\n",
              "      <td>90.2</td>\n",
              "      <td>5.1</td>\n",
              "      <td>0</td>\n",
              "    </tr>\n",
              "    <tr>\n",
              "      <th>...</th>\n",
              "      <td>...</td>\n",
              "      <td>...</td>\n",
              "      <td>...</td>\n",
              "      <td>...</td>\n",
              "      <td>...</td>\n",
              "      <td>...</td>\n",
              "      <td>...</td>\n",
              "      <td>...</td>\n",
              "      <td>...</td>\n",
              "    </tr>\n",
              "    <tr>\n",
              "      <th>5520</th>\n",
              "      <td>0</td>\n",
              "      <td>0</td>\n",
              "      <td>3.08</td>\n",
              "      <td>23</td>\n",
              "      <td>0.00</td>\n",
              "      <td>0</td>\n",
              "      <td>5.0</td>\n",
              "      <td>0.5</td>\n",
              "      <td>0</td>\n",
              "    </tr>\n",
              "    <tr>\n",
              "      <th>35814</th>\n",
              "      <td>0</td>\n",
              "      <td>0</td>\n",
              "      <td>0.00</td>\n",
              "      <td>0</td>\n",
              "      <td>0.00</td>\n",
              "      <td>0</td>\n",
              "      <td>0.0</td>\n",
              "      <td>0.0</td>\n",
              "      <td>0</td>\n",
              "    </tr>\n",
              "    <tr>\n",
              "      <th>20463</th>\n",
              "      <td>1</td>\n",
              "      <td>0</td>\n",
              "      <td>1.97</td>\n",
              "      <td>30</td>\n",
              "      <td>0.00</td>\n",
              "      <td>0</td>\n",
              "      <td>33.8</td>\n",
              "      <td>2.7</td>\n",
              "      <td>0</td>\n",
              "    </tr>\n",
              "    <tr>\n",
              "      <th>18638</th>\n",
              "      <td>0</td>\n",
              "      <td>0</td>\n",
              "      <td>0.75</td>\n",
              "      <td>24</td>\n",
              "      <td>0.00</td>\n",
              "      <td>0</td>\n",
              "      <td>7.0</td>\n",
              "      <td>0.4</td>\n",
              "      <td>0</td>\n",
              "    </tr>\n",
              "    <tr>\n",
              "      <th>35683</th>\n",
              "      <td>1</td>\n",
              "      <td>0</td>\n",
              "      <td>1.47</td>\n",
              "      <td>13</td>\n",
              "      <td>0.45</td>\n",
              "      <td>0</td>\n",
              "      <td>13.0</td>\n",
              "      <td>1.3</td>\n",
              "      <td>0</td>\n",
              "    </tr>\n",
              "  </tbody>\n",
              "</table>\n",
              "<p>33005 rows × 9 columns</p>\n",
              "</div>\n",
              "      <button class=\"colab-df-convert\" onclick=\"convertToInteractive('df-53accb3c-967f-45b0-9af3-e7cbf459899b')\"\n",
              "              title=\"Convert this dataframe to an interactive table.\"\n",
              "              style=\"display:none;\">\n",
              "        \n",
              "  <svg xmlns=\"http://www.w3.org/2000/svg\" height=\"24px\"viewBox=\"0 0 24 24\"\n",
              "       width=\"24px\">\n",
              "    <path d=\"M0 0h24v24H0V0z\" fill=\"none\"/>\n",
              "    <path d=\"M18.56 5.44l.94 2.06.94-2.06 2.06-.94-2.06-.94-.94-2.06-.94 2.06-2.06.94zm-11 1L8.5 8.5l.94-2.06 2.06-.94-2.06-.94L8.5 2.5l-.94 2.06-2.06.94zm10 10l.94 2.06.94-2.06 2.06-.94-2.06-.94-.94-2.06-.94 2.06-2.06.94z\"/><path d=\"M17.41 7.96l-1.37-1.37c-.4-.4-.92-.59-1.43-.59-.52 0-1.04.2-1.43.59L10.3 9.45l-7.72 7.72c-.78.78-.78 2.05 0 2.83L4 21.41c.39.39.9.59 1.41.59.51 0 1.02-.2 1.41-.59l7.78-7.78 2.81-2.81c.8-.78.8-2.07 0-2.86zM5.41 20L4 18.59l7.72-7.72 1.47 1.35L5.41 20z\"/>\n",
              "  </svg>\n",
              "      </button>\n",
              "      \n",
              "  <style>\n",
              "    .colab-df-container {\n",
              "      display:flex;\n",
              "      flex-wrap:wrap;\n",
              "      gap: 12px;\n",
              "    }\n",
              "\n",
              "    .colab-df-convert {\n",
              "      background-color: #E8F0FE;\n",
              "      border: none;\n",
              "      border-radius: 50%;\n",
              "      cursor: pointer;\n",
              "      display: none;\n",
              "      fill: #1967D2;\n",
              "      height: 32px;\n",
              "      padding: 0 0 0 0;\n",
              "      width: 32px;\n",
              "    }\n",
              "\n",
              "    .colab-df-convert:hover {\n",
              "      background-color: #E2EBFA;\n",
              "      box-shadow: 0px 1px 2px rgba(60, 64, 67, 0.3), 0px 1px 3px 1px rgba(60, 64, 67, 0.15);\n",
              "      fill: #174EA6;\n",
              "    }\n",
              "\n",
              "    [theme=dark] .colab-df-convert {\n",
              "      background-color: #3B4455;\n",
              "      fill: #D2E3FC;\n",
              "    }\n",
              "\n",
              "    [theme=dark] .colab-df-convert:hover {\n",
              "      background-color: #434B5C;\n",
              "      box-shadow: 0px 1px 3px 1px rgba(0, 0, 0, 0.15);\n",
              "      filter: drop-shadow(0px 1px 2px rgba(0, 0, 0, 0.3));\n",
              "      fill: #FFFFFF;\n",
              "    }\n",
              "  </style>\n",
              "\n",
              "      <script>\n",
              "        const buttonEl =\n",
              "          document.querySelector('#df-53accb3c-967f-45b0-9af3-e7cbf459899b button.colab-df-convert');\n",
              "        buttonEl.style.display =\n",
              "          google.colab.kernel.accessAllowed ? 'block' : 'none';\n",
              "\n",
              "        async function convertToInteractive(key) {\n",
              "          const element = document.querySelector('#df-53accb3c-967f-45b0-9af3-e7cbf459899b');\n",
              "          const dataTable =\n",
              "            await google.colab.kernel.invokeFunction('convertToInteractive',\n",
              "                                                     [key], {});\n",
              "          if (!dataTable) return;\n",
              "\n",
              "          const docLinkHtml = 'Like what you see? Visit the ' +\n",
              "            '<a target=\"_blank\" href=https://colab.research.google.com/notebooks/data_table.ipynb>data table notebook</a>'\n",
              "            + ' to learn more about interactive tables.';\n",
              "          element.innerHTML = '';\n",
              "          dataTable['output_type'] = 'display_data';\n",
              "          await google.colab.output.renderOutput(dataTable, element);\n",
              "          const docLink = document.createElement('div');\n",
              "          docLink.innerHTML = docLinkHtml;\n",
              "          element.appendChild(docLink);\n",
              "        }\n",
              "      </script>\n",
              "    </div>\n",
              "  </div>\n",
              "  "
            ],
            "text/plain": [
              "       is_tv_subscriber  is_movie_package_subscriber  subscription_age  \\\n",
              "5911                  1                            1              1.43   \n",
              "46170                 1                            0              0.09   \n",
              "28742                 1                            0              2.76   \n",
              "21230                 1                            1              3.98   \n",
              "31539                 1                            1              2.11   \n",
              "...                 ...                          ...               ...   \n",
              "5520                  0                            0              3.08   \n",
              "35814                 0                            0              0.00   \n",
              "20463                 1                            0              1.97   \n",
              "18638                 0                            0              0.75   \n",
              "35683                 1                            0              1.47   \n",
              "\n",
              "       bill_avg  remaining_contract  service_failure_count  download_avg  \\\n",
              "5911         17                0.00                      0           0.0   \n",
              "46170        15                1.88                      0          44.4   \n",
              "28742        25                0.00                      0          44.6   \n",
              "21230        17                1.93                      0          87.0   \n",
              "31539        18                1.81                      0          90.2   \n",
              "...         ...                 ...                    ...           ...   \n",
              "5520         23                0.00                      0           5.0   \n",
              "35814         0                0.00                      0           0.0   \n",
              "20463        30                0.00                      0          33.8   \n",
              "18638        24                0.00                      0           7.0   \n",
              "35683        13                0.45                      0          13.0   \n",
              "\n",
              "       upload_avg  download_over_limit  \n",
              "5911          0.0                    0  \n",
              "46170         1.7                    0  \n",
              "28742         2.0                    0  \n",
              "21230         8.1                    0  \n",
              "31539         5.1                    0  \n",
              "...           ...                  ...  \n",
              "5520          0.5                    0  \n",
              "35814         0.0                    0  \n",
              "20463         2.7                    0  \n",
              "18638         0.4                    0  \n",
              "35683         1.3                    0  \n",
              "\n",
              "[33005 rows x 9 columns]"
            ]
          },
          "execution_count": 58,
          "metadata": {},
          "output_type": "execute_result"
        }
      ],
      "source": [
        "x_train1"
      ]
    },
    {
      "cell_type": "code",
      "execution_count": null,
      "metadata": {
        "id": "lZdjMSx4UhvG"
      },
      "outputs": [],
      "source": [
        "scale = StandardScaler()\n",
        "x_train_sc1 = scale.fit_transform(x_train1)\n",
        "x_test_sc1 = scale.transform(x_test1)"
      ]
    },
    {
      "cell_type": "markdown",
      "metadata": {
        "id": "2V1hWQFLbMVV"
      },
      "source": [
        "**chạy với ko scale**"
      ]
    },
    {
      "cell_type": "code",
      "execution_count": null,
      "metadata": {
        "colab": {
          "base_uri": "https://localhost:8080/"
        },
        "id": "iYiLAeh-QIEH",
        "outputId": "3d5071bd-808a-4d32-bea4-e6a864385a79"
      },
      "outputs": [
        {
          "name": "stdout",
          "output_type": "stream",
          "text": [
            "Epoch 1/30\n",
            "1032/1032 [==============================] - 3s 2ms/step - loss: 3788.3525 - accuracy: 0.4966\n",
            "Epoch 2/30\n",
            "1032/1032 [==============================] - 3s 2ms/step - loss: 186.8183 - accuracy: 0.5004\n",
            "Epoch 3/30\n",
            "1032/1032 [==============================] - 3s 2ms/step - loss: 169.3027 - accuracy: 0.4995\n",
            "Epoch 4/30\n",
            "1032/1032 [==============================] - 3s 3ms/step - loss: 175.8374 - accuracy: 0.5061\n",
            "Epoch 5/30\n",
            "1032/1032 [==============================] - 5s 5ms/step - loss: 181.7561 - accuracy: 0.5053\n",
            "Epoch 6/30\n",
            "1032/1032 [==============================] - 3s 3ms/step - loss: 174.0190 - accuracy: 0.5139\n",
            "Epoch 7/30\n",
            "1032/1032 [==============================] - 3s 3ms/step - loss: 169.0131 - accuracy: 0.5190\n",
            "Epoch 8/30\n",
            "1032/1032 [==============================] - 3s 2ms/step - loss: 160.2796 - accuracy: 0.5198\n",
            "Epoch 9/30\n",
            "1032/1032 [==============================] - 2s 2ms/step - loss: 188.7626 - accuracy: 0.5189\n",
            "Epoch 10/30\n",
            "1032/1032 [==============================] - 3s 3ms/step - loss: 125.5633 - accuracy: 0.5260\n",
            "Epoch 11/30\n",
            "1032/1032 [==============================] - 4s 4ms/step - loss: 163.9757 - accuracy: 0.5319\n",
            "Epoch 12/30\n",
            "1032/1032 [==============================] - 3s 3ms/step - loss: 144.2838 - accuracy: 0.5347\n",
            "Epoch 13/30\n",
            "1032/1032 [==============================] - 3s 3ms/step - loss: 147.4373 - accuracy: 0.5338\n",
            "Epoch 14/30\n",
            "1032/1032 [==============================] - 2s 2ms/step - loss: 134.0210 - accuracy: 0.5463\n",
            "Epoch 15/30\n",
            "1032/1032 [==============================] - 3s 3ms/step - loss: 134.2484 - accuracy: 0.5407\n",
            "Epoch 16/30\n",
            "1032/1032 [==============================] - 2s 2ms/step - loss: 135.2963 - accuracy: 0.5392\n",
            "Epoch 17/30\n",
            "1032/1032 [==============================] - 3s 3ms/step - loss: 105.0572 - accuracy: 0.5618\n",
            "Epoch 18/30\n",
            "1032/1032 [==============================] - 3s 3ms/step - loss: 124.3778 - accuracy: 0.5519\n",
            "Epoch 19/30\n",
            "1032/1032 [==============================] - 3s 3ms/step - loss: 141.8979 - accuracy: 0.5562\n",
            "Epoch 20/30\n",
            "1032/1032 [==============================] - 3s 3ms/step - loss: 126.1181 - accuracy: 0.5516\n",
            "Epoch 21/30\n",
            "1032/1032 [==============================] - 3s 3ms/step - loss: 116.4392 - accuracy: 0.5549\n",
            "Epoch 22/30\n",
            "1032/1032 [==============================] - 2s 2ms/step - loss: 116.7966 - accuracy: 0.5607\n",
            "Epoch 23/30\n",
            "1032/1032 [==============================] - 2s 2ms/step - loss: 112.7402 - accuracy: 0.5659\n",
            "Epoch 24/30\n",
            "1032/1032 [==============================] - 2s 2ms/step - loss: 97.0001 - accuracy: 0.5766\n",
            "Epoch 25/30\n",
            "1032/1032 [==============================] - 2s 2ms/step - loss: 103.8842 - accuracy: 0.5730\n",
            "Epoch 26/30\n",
            "1032/1032 [==============================] - 2s 2ms/step - loss: 95.7854 - accuracy: 0.5752\n",
            "Epoch 27/30\n",
            "1032/1032 [==============================] - 4s 4ms/step - loss: 93.5655 - accuracy: 0.5847\n",
            "Epoch 28/30\n",
            "1032/1032 [==============================] - 3s 3ms/step - loss: 92.3518 - accuracy: 0.5823\n",
            "Epoch 29/30\n",
            "1032/1032 [==============================] - 3s 3ms/step - loss: 92.5005 - accuracy: 0.5844\n",
            "Epoch 30/30\n",
            "1032/1032 [==============================] - 2s 2ms/step - loss: 97.4355 - accuracy: 0.5802\n"
          ]
        },
        {
          "data": {
            "text/plain": [
              "<keras.callbacks.History at 0x7f929bb84f50>"
            ]
          },
          "execution_count": 26,
          "metadata": {},
          "output_type": "execute_result"
        }
      ],
      "source": [
        "ann2 = keras.Sequential([\n",
        "    keras.layers.Dense(10, input_shape=(10,), activation='relu'),\n",
        "    keras.layers.Dense(5, activation='relu'),\n",
        "    keras.layers.Dense(1, activation='sigmoid')\n",
        "])\n",
        "\n",
        "ann2.compile(optimizer='adam',\n",
        "              loss='binary_crossentropy',\n",
        "              metrics=['accuracy'])\n",
        "ann2.fit(x_train1, y_train1, epochs=30)\n"
      ]
    },
    {
      "cell_type": "markdown",
      "metadata": {
        "id": "GsWmTvM4bSNv"
      },
      "source": [
        "**có scale**"
      ]
    },
    {
      "cell_type": "code",
      "execution_count": null,
      "metadata": {
        "colab": {
          "base_uri": "https://localhost:8080/"
        },
        "id": "sE1H0aoKbRVV",
        "outputId": "9a355df7-75ed-481d-f038-738c1fb995cf"
      },
      "outputs": [
        {
          "name": "stdout",
          "output_type": "stream",
          "text": [
            "Epoch 1/30\n",
            "1032/1032 [==============================] - 3s 2ms/step - loss: 0.3189 - accuracy: 0.8710\n",
            "Epoch 2/30\n",
            "1032/1032 [==============================] - 3s 2ms/step - loss: 0.2132 - accuracy: 0.9195\n",
            "Epoch 3/30\n",
            "1032/1032 [==============================] - 2s 2ms/step - loss: 0.2023 - accuracy: 0.9236\n",
            "Epoch 4/30\n",
            "1032/1032 [==============================] - 2s 2ms/step - loss: 0.1967 - accuracy: 0.9265\n",
            "Epoch 5/30\n",
            "1032/1032 [==============================] - 2s 2ms/step - loss: 0.1927 - accuracy: 0.9274\n",
            "Epoch 6/30\n",
            "1032/1032 [==============================] - 2s 2ms/step - loss: 0.1892 - accuracy: 0.9291\n",
            "Epoch 7/30\n",
            "1032/1032 [==============================] - 3s 2ms/step - loss: 0.1865 - accuracy: 0.9300\n",
            "Epoch 8/30\n",
            "1032/1032 [==============================] - 3s 3ms/step - loss: 0.1839 - accuracy: 0.9309\n",
            "Epoch 9/30\n",
            "1032/1032 [==============================] - 3s 3ms/step - loss: 0.1816 - accuracy: 0.9314\n",
            "Epoch 10/30\n",
            "1032/1032 [==============================] - 3s 3ms/step - loss: 0.1786 - accuracy: 0.9321\n",
            "Epoch 11/30\n",
            "1032/1032 [==============================] - 2s 2ms/step - loss: 0.1751 - accuracy: 0.9331\n",
            "Epoch 12/30\n",
            "1032/1032 [==============================] - 2s 2ms/step - loss: 0.1706 - accuracy: 0.9341\n",
            "Epoch 13/30\n",
            "1032/1032 [==============================] - 2s 2ms/step - loss: 0.1629 - accuracy: 0.9348\n",
            "Epoch 14/30\n",
            "1032/1032 [==============================] - 2s 2ms/step - loss: 0.1505 - accuracy: 0.9371\n",
            "Epoch 15/30\n",
            "1032/1032 [==============================] - 2s 2ms/step - loss: 0.1331 - accuracy: 0.9426\n",
            "Epoch 16/30\n",
            "1032/1032 [==============================] - 6s 6ms/step - loss: 0.1176 - accuracy: 0.9509\n",
            "Epoch 17/30\n",
            "1032/1032 [==============================] - 2s 2ms/step - loss: 0.1057 - accuracy: 0.9585\n",
            "Epoch 18/30\n",
            "1032/1032 [==============================] - 2s 2ms/step - loss: 0.0969 - accuracy: 0.9634\n",
            "Epoch 19/30\n",
            "1032/1032 [==============================] - 2s 2ms/step - loss: 0.0904 - accuracy: 0.9662\n",
            "Epoch 20/30\n",
            "1032/1032 [==============================] - 2s 2ms/step - loss: 0.0852 - accuracy: 0.9668\n",
            "Epoch 21/30\n",
            "1032/1032 [==============================] - 2s 2ms/step - loss: 0.0806 - accuracy: 0.9683\n",
            "Epoch 22/30\n",
            "1032/1032 [==============================] - 3s 3ms/step - loss: 0.0768 - accuracy: 0.9705\n",
            "Epoch 23/30\n",
            "1032/1032 [==============================] - 3s 3ms/step - loss: 0.0743 - accuracy: 0.9707\n",
            "Epoch 24/30\n",
            "1032/1032 [==============================] - 2s 2ms/step - loss: 0.0707 - accuracy: 0.9729\n",
            "Epoch 25/30\n",
            "1032/1032 [==============================] - 2s 2ms/step - loss: 0.0680 - accuracy: 0.9731\n",
            "Epoch 26/30\n",
            "1032/1032 [==============================] - 2s 2ms/step - loss: 0.0660 - accuracy: 0.9739\n",
            "Epoch 27/30\n",
            "1032/1032 [==============================] - 2s 2ms/step - loss: 0.0641 - accuracy: 0.9748\n",
            "Epoch 28/30\n",
            "1032/1032 [==============================] - 3s 3ms/step - loss: 0.0619 - accuracy: 0.9756\n",
            "Epoch 29/30\n",
            "1032/1032 [==============================] - 3s 2ms/step - loss: 0.0610 - accuracy: 0.9766\n",
            "Epoch 30/30\n",
            "1032/1032 [==============================] - 2s 2ms/step - loss: 0.0597 - accuracy: 0.9761\n"
          ]
        },
        {
          "data": {
            "text/plain": [
              "<keras.callbacks.History at 0x7f929ca67710>"
            ]
          },
          "execution_count": 80,
          "metadata": {},
          "output_type": "execute_result"
        }
      ],
      "source": [
        "ann2 = keras.Sequential([\n",
        "    keras.layers.Dense(10, input_shape=(10,), activation='relu'),\n",
        "    keras.layers.Dense(5, activation='relu'),\n",
        "    keras.layers.Dense(1, activation='sigmoid')\n",
        "])\n",
        "\n",
        "ann2.compile(optimizer='adam',\n",
        "              loss='binary_crossentropy',\n",
        "              metrics=['accuracy'])\n",
        "ann2.fit(x_train_sc, y_train, epochs=30)"
      ]
    },
    {
      "cell_type": "code",
      "execution_count": null,
      "metadata": {
        "id": "5k6yc6usU6Pe"
      },
      "outputs": [],
      "source": [
        "len(ann2.weights)"
      ]
    },
    {
      "cell_type": "code",
      "execution_count": null,
      "metadata": {
        "colab": {
          "base_uri": "https://localhost:8080/"
        },
        "id": "VIO9dP83TZMY",
        "outputId": "a23130e2-ef91-4e69-f745-31f8b498d46c"
      },
      "outputs": [
        {
          "name": "stdout",
          "output_type": "stream",
          "text": [
            "443/443 [==============================] - 2s 4ms/step\n"
          ]
        },
        {
          "data": {
            "text/plain": [
              "array([[7.5905842e-01],\n",
              "       [1.0000000e+00],\n",
              "       [1.0000000e+00],\n",
              "       ...,\n",
              "       [9.2363555e-04],\n",
              "       [1.0000000e+00],\n",
              "       [6.1696502e-03]], dtype=float32)"
            ]
          },
          "execution_count": 81,
          "metadata": {},
          "output_type": "execute_result"
        }
      ],
      "source": [
        "y_pred = ann2.predict(x_test_sc)\n",
        "y_pred"
      ]
    },
    {
      "cell_type": "code",
      "execution_count": null,
      "metadata": {
        "colab": {
          "base_uri": "https://localhost:8080/"
        },
        "id": "a_f9wZ44T3yA",
        "outputId": "31ab8907-8905-4324-ba45-9cad33b5fbbf"
      },
      "outputs": [
        {
          "name": "stdout",
          "output_type": "stream",
          "text": [
            "              precision    recall  f1-score   support\n",
            "\n",
            "           0       0.97      0.98      0.97      6000\n",
            "           1       0.98      0.98      0.98      8146\n",
            "\n",
            "    accuracy                           0.98     14146\n",
            "   macro avg       0.98      0.98      0.98     14146\n",
            "weighted avg       0.98      0.98      0.98     14146\n",
            "\n"
          ]
        }
      ],
      "source": [
        "y_pred = (y_pred > 0.5)\n",
        "print(classification_report(y_test,y_pred))"
      ]
    },
    {
      "cell_type": "code",
      "execution_count": null,
      "metadata": {
        "colab": {
          "base_uri": "https://localhost:8080/"
        },
        "id": "PTfN49GNXZ26",
        "outputId": "01e48238-71c5-4188-d8a4-97bd55abf090"
      },
      "outputs": [
        {
          "data": {
            "text/plain": [
              "0.9774494556765163"
            ]
          },
          "execution_count": 83,
          "metadata": {},
          "output_type": "execute_result"
        }
      ],
      "source": [
        "accuracy_score(y_test, y_pred)"
      ]
    },
    {
      "cell_type": "code",
      "execution_count": null,
      "metadata": {
        "colab": {
          "base_uri": "https://localhost:8080/",
          "height": 112
        },
        "id": "82hIn8sYXolh",
        "outputId": "586bba3a-091d-47f6-a0ba-07a38c59d0cd"
      },
      "outputs": [
        {
          "data": {
            "text/html": [
              "\n",
              "  <div id=\"df-c242fbc6-d894-4ee0-9874-5790ffe68506\">\n",
              "    <div class=\"colab-df-container\">\n",
              "      <div>\n",
              "<style scoped>\n",
              "    .dataframe tbody tr th:only-of-type {\n",
              "        vertical-align: middle;\n",
              "    }\n",
              "\n",
              "    .dataframe tbody tr th {\n",
              "        vertical-align: top;\n",
              "    }\n",
              "\n",
              "    .dataframe thead th {\n",
              "        text-align: right;\n",
              "    }\n",
              "</style>\n",
              "<table border=\"1\" class=\"dataframe\">\n",
              "  <thead>\n",
              "    <tr style=\"text-align: right;\">\n",
              "      <th></th>\n",
              "      <th>name</th>\n",
              "      <th>optimizer</th>\n",
              "      <th>epochs</th>\n",
              "      <th>num_layers</th>\n",
              "      <th>dataset</th>\n",
              "      <th>accuracy</th>\n",
              "    </tr>\n",
              "  </thead>\n",
              "  <tbody>\n",
              "    <tr>\n",
              "      <th>0</th>\n",
              "      <td>ann 2575</td>\n",
              "      <td>adam</td>\n",
              "      <td>30</td>\n",
              "      <td>3</td>\n",
              "      <td>cleaned-2575</td>\n",
              "      <td>0.470451</td>\n",
              "    </tr>\n",
              "    <tr>\n",
              "      <th>1</th>\n",
              "      <td>ann - std scale</td>\n",
              "      <td>adam</td>\n",
              "      <td>30</td>\n",
              "      <td>3</td>\n",
              "      <td>cleaned-2575</td>\n",
              "      <td>0.977449</td>\n",
              "    </tr>\n",
              "  </tbody>\n",
              "</table>\n",
              "</div>\n",
              "      <button class=\"colab-df-convert\" onclick=\"convertToInteractive('df-c242fbc6-d894-4ee0-9874-5790ffe68506')\"\n",
              "              title=\"Convert this dataframe to an interactive table.\"\n",
              "              style=\"display:none;\">\n",
              "        \n",
              "  <svg xmlns=\"http://www.w3.org/2000/svg\" height=\"24px\"viewBox=\"0 0 24 24\"\n",
              "       width=\"24px\">\n",
              "    <path d=\"M0 0h24v24H0V0z\" fill=\"none\"/>\n",
              "    <path d=\"M18.56 5.44l.94 2.06.94-2.06 2.06-.94-2.06-.94-.94-2.06-.94 2.06-2.06.94zm-11 1L8.5 8.5l.94-2.06 2.06-.94-2.06-.94L8.5 2.5l-.94 2.06-2.06.94zm10 10l.94 2.06.94-2.06 2.06-.94-2.06-.94-.94-2.06-.94 2.06-2.06.94z\"/><path d=\"M17.41 7.96l-1.37-1.37c-.4-.4-.92-.59-1.43-.59-.52 0-1.04.2-1.43.59L10.3 9.45l-7.72 7.72c-.78.78-.78 2.05 0 2.83L4 21.41c.39.39.9.59 1.41.59.51 0 1.02-.2 1.41-.59l7.78-7.78 2.81-2.81c.8-.78.8-2.07 0-2.86zM5.41 20L4 18.59l7.72-7.72 1.47 1.35L5.41 20z\"/>\n",
              "  </svg>\n",
              "      </button>\n",
              "      \n",
              "  <style>\n",
              "    .colab-df-container {\n",
              "      display:flex;\n",
              "      flex-wrap:wrap;\n",
              "      gap: 12px;\n",
              "    }\n",
              "\n",
              "    .colab-df-convert {\n",
              "      background-color: #E8F0FE;\n",
              "      border: none;\n",
              "      border-radius: 50%;\n",
              "      cursor: pointer;\n",
              "      display: none;\n",
              "      fill: #1967D2;\n",
              "      height: 32px;\n",
              "      padding: 0 0 0 0;\n",
              "      width: 32px;\n",
              "    }\n",
              "\n",
              "    .colab-df-convert:hover {\n",
              "      background-color: #E2EBFA;\n",
              "      box-shadow: 0px 1px 2px rgba(60, 64, 67, 0.3), 0px 1px 3px 1px rgba(60, 64, 67, 0.15);\n",
              "      fill: #174EA6;\n",
              "    }\n",
              "\n",
              "    [theme=dark] .colab-df-convert {\n",
              "      background-color: #3B4455;\n",
              "      fill: #D2E3FC;\n",
              "    }\n",
              "\n",
              "    [theme=dark] .colab-df-convert:hover {\n",
              "      background-color: #434B5C;\n",
              "      box-shadow: 0px 1px 3px 1px rgba(0, 0, 0, 0.15);\n",
              "      filter: drop-shadow(0px 1px 2px rgba(0, 0, 0, 0.3));\n",
              "      fill: #FFFFFF;\n",
              "    }\n",
              "  </style>\n",
              "\n",
              "      <script>\n",
              "        const buttonEl =\n",
              "          document.querySelector('#df-c242fbc6-d894-4ee0-9874-5790ffe68506 button.colab-df-convert');\n",
              "        buttonEl.style.display =\n",
              "          google.colab.kernel.accessAllowed ? 'block' : 'none';\n",
              "\n",
              "        async function convertToInteractive(key) {\n",
              "          const element = document.querySelector('#df-c242fbc6-d894-4ee0-9874-5790ffe68506');\n",
              "          const dataTable =\n",
              "            await google.colab.kernel.invokeFunction('convertToInteractive',\n",
              "                                                     [key], {});\n",
              "          if (!dataTable) return;\n",
              "\n",
              "          const docLinkHtml = 'Like what you see? Visit the ' +\n",
              "            '<a target=\"_blank\" href=https://colab.research.google.com/notebooks/data_table.ipynb>data table notebook</a>'\n",
              "            + ' to learn more about interactive tables.';\n",
              "          element.innerHTML = '';\n",
              "          dataTable['output_type'] = 'display_data';\n",
              "          await google.colab.output.renderOutput(dataTable, element);\n",
              "          const docLink = document.createElement('div');\n",
              "          docLink.innerHTML = docLinkHtml;\n",
              "          element.appendChild(docLink);\n",
              "        }\n",
              "      </script>\n",
              "    </div>\n",
              "  </div>\n",
              "  "
            ],
            "text/plain": [
              "              name optimizer epochs num_layers       dataset  accuracy\n",
              "0         ann 2575      adam     30          3  cleaned-2575  0.470451\n",
              "1  ann - std scale      adam     30          3  cleaned-2575  0.977449"
            ]
          },
          "execution_count": 84,
          "metadata": {},
          "output_type": "execute_result"
        }
      ],
      "source": [
        "add_exp(df_exp, 'ann - std scale', 'adam', 30, 3, 'cleaned-2575', accuracy_score(y_test, y_pred))\n",
        "df_exp"
      ]
    },
    {
      "cell_type": "code",
      "execution_count": null,
      "metadata": {
        "id": "KAw4UY5s5MI0"
      },
      "outputs": [],
      "source": [
        "# ann_viz(ann2, view=True, title='ANNs', filename='/content/gdrive/Shareddrives/DA with R-Python/0.Project/img/ann2.gv')"
      ]
    },
    {
      "cell_type": "markdown",
      "metadata": {
        "id": "p2fw-Zdlhnzi"
      },
      "source": [
        "#Handling overfitting"
      ]
    },
    {
      "cell_type": "markdown",
      "metadata": {
        "id": "6E56fABZhnu2"
      },
      "source": [
        "https://machinelearningcoban.com/2017/03/04/overfitting/#-validation"
      ]
    },
    {
      "cell_type": "markdown",
      "metadata": {
        "id": "mRub2vPsQCId"
      },
      "source": [
        "## early stopping"
      ]
    },
    {
      "cell_type": "code",
      "execution_count": null,
      "metadata": {
        "colab": {
          "base_uri": "https://localhost:8080/"
        },
        "id": "LfQicFrCQCI4",
        "outputId": "2a5bccdd-3ab3-431f-a473-43724cc16cc5"
      },
      "outputs": [
        {
          "name": "stdout",
          "output_type": "stream",
          "text": [
            "Epoch 1/10\n",
            "1573/1573 [==============================] - 3s 2ms/step - loss: 0.4932 - accuracy: 0.7832\n",
            "Epoch 2/10\n",
            "1573/1573 [==============================] - 3s 2ms/step - loss: 0.3218 - accuracy: 0.8903\n",
            "Epoch 3/10\n",
            "1573/1573 [==============================] - 3s 2ms/step - loss: 0.2875 - accuracy: 0.8990\n",
            "Epoch 4/10\n",
            "1573/1573 [==============================] - 3s 2ms/step - loss: 0.2709 - accuracy: 0.9059\n",
            "Epoch 5/10\n",
            "1573/1573 [==============================] - 3s 2ms/step - loss: 0.2577 - accuracy: 0.9124\n",
            "Epoch 6/10\n",
            "1573/1573 [==============================] - 3s 2ms/step - loss: 0.2528 - accuracy: 0.9154\n",
            "Epoch 7/10\n",
            "1573/1573 [==============================] - 3s 2ms/step - loss: 0.2484 - accuracy: 0.9162\n",
            "Epoch 8/10\n",
            "1573/1573 [==============================] - 3s 2ms/step - loss: 0.2446 - accuracy: 0.9182\n",
            "Epoch 9/10\n",
            "1573/1573 [==============================] - 3s 2ms/step - loss: 0.2410 - accuracy: 0.9203\n",
            "Epoch 10/10\n",
            "1573/1573 [==============================] - 3s 2ms/step - loss: 0.2388 - accuracy: 0.9205\n"
          ]
        },
        {
          "data": {
            "text/plain": [
              "<keras.callbacks.History at 0x7f98c05ea4d0>"
            ]
          },
          "execution_count": 20,
          "metadata": {},
          "output_type": "execute_result"
        }
      ],
      "source": [
        "\n",
        "ann = Sequential()\n",
        "# adding the input layer and the first hidden layer\n",
        "ann.add(Dense(units = 5, kernel_initializer = 'uniform', activation = 'relu', input_dim = 10))\n",
        "\n",
        "# adding the second hidden layer\n",
        "ann.add(Dense(units = 3, kernel_initializer = 'uniform', activation = 'relu'))\n",
        "# adding the output layer\n",
        "ann.add(Dense(units = 1, kernel_initializer = 'uniform', activation = 'sigmoid'))\n",
        "\n",
        "# early_stopping = keras.callbacks.EarlyStopping(\n",
        "#     monitor='val_loss', min_delta=0, patience=5, verbose=0,\n",
        "#     mode='auto', baseline=None, restore_best_weights= True\n",
        "# )\n",
        "ann.compile(optimizer='adam',\n",
        "              loss='binary_crossentropy',\n",
        "              metrics=['accuracy'])\n",
        "\n",
        "# fit\n",
        "ann.fit(x_train, y_train, epochs=10, batch_size = 32\n",
        "        # , callbacks = early_stopping, validation_split=0.20\n",
        "        )\n",
        "# classifier.fit(X_train, y_train, batch_size = 32, epochs = 100,verbose = 0)\n"
      ]
    },
    {
      "cell_type": "code",
      "execution_count": null,
      "metadata": {
        "colab": {
          "base_uri": "https://localhost:8080/"
        },
        "id": "aarbQgxpQCI5",
        "outputId": "bbccb726-6dda-4092-f0a7-9f4d38a54a8b"
      },
      "outputs": [
        {
          "name": "stdout",
          "output_type": "stream",
          "text": [
            "674/674 [==============================] - 1s 1ms/step\n",
            "674/674 [==============================] - 1s 1ms/step - loss: 0.2366 - accuracy: 0.9181\n",
            "              precision    recall  f1-score   support\n",
            "\n",
            "           0       0.89      0.93      0.91      9581\n",
            "           1       0.94      0.91      0.92     11987\n",
            "\n",
            "    accuracy                           0.92     21568\n",
            "   macro avg       0.92      0.92      0.92     21568\n",
            "weighted avg       0.92      0.92      0.92     21568\n",
            "\n"
          ]
        }
      ],
      "source": [
        "score, acc = get_scores(ann, x_test, y_test)"
      ]
    },
    {
      "cell_type": "markdown",
      "metadata": {
        "id": "cLLvsmtBT15V"
      },
      "source": [
        "#Model Selection"
      ]
    },
    {
      "cell_type": "markdown",
      "metadata": {
        "id": "timcgTdTTw5E"
      },
      "source": [
        "Need to get optimal parameters (epochs, batch_size, optimizer)\n",
        "\n",
        "\n",
        "\n",
        "from sklearn.model_selection import GridSearchCV\n"
      ]
    },
    {
      "cell_type": "code",
      "execution_count": null,
      "metadata": {
        "colab": {
          "base_uri": "https://localhost:8080/",
          "height": 49
        },
        "id": "6bc9j-p5QJLz",
        "outputId": "d6b0045c-7ff7-499c-faf8-05346f9e33a9"
      },
      "outputs": [
        {
          "data": {
            "text/html": [
              "\n",
              "  <div id=\"df-4606cd4e-1dc5-4be0-8c9a-dce5ef7b828e\">\n",
              "    <div class=\"colab-df-container\">\n",
              "      <div>\n",
              "<style scoped>\n",
              "    .dataframe tbody tr th:only-of-type {\n",
              "        vertical-align: middle;\n",
              "    }\n",
              "\n",
              "    .dataframe tbody tr th {\n",
              "        vertical-align: top;\n",
              "    }\n",
              "\n",
              "    .dataframe thead th {\n",
              "        text-align: right;\n",
              "    }\n",
              "</style>\n",
              "<table border=\"1\" class=\"dataframe\">\n",
              "  <thead>\n",
              "    <tr style=\"text-align: right;\">\n",
              "      <th></th>\n",
              "      <th>name</th>\n",
              "      <th>optimizer</th>\n",
              "      <th>epochs</th>\n",
              "      <th>num_hidden_layers</th>\n",
              "      <th>dataset</th>\n",
              "      <th>accuracy</th>\n",
              "    </tr>\n",
              "  </thead>\n",
              "  <tbody>\n",
              "  </tbody>\n",
              "</table>\n",
              "</div>\n",
              "      <button class=\"colab-df-convert\" onclick=\"convertToInteractive('df-4606cd4e-1dc5-4be0-8c9a-dce5ef7b828e')\"\n",
              "              title=\"Convert this dataframe to an interactive table.\"\n",
              "              style=\"display:none;\">\n",
              "        \n",
              "  <svg xmlns=\"http://www.w3.org/2000/svg\" height=\"24px\"viewBox=\"0 0 24 24\"\n",
              "       width=\"24px\">\n",
              "    <path d=\"M0 0h24v24H0V0z\" fill=\"none\"/>\n",
              "    <path d=\"M18.56 5.44l.94 2.06.94-2.06 2.06-.94-2.06-.94-.94-2.06-.94 2.06-2.06.94zm-11 1L8.5 8.5l.94-2.06 2.06-.94-2.06-.94L8.5 2.5l-.94 2.06-2.06.94zm10 10l.94 2.06.94-2.06 2.06-.94-2.06-.94-.94-2.06-.94 2.06-2.06.94z\"/><path d=\"M17.41 7.96l-1.37-1.37c-.4-.4-.92-.59-1.43-.59-.52 0-1.04.2-1.43.59L10.3 9.45l-7.72 7.72c-.78.78-.78 2.05 0 2.83L4 21.41c.39.39.9.59 1.41.59.51 0 1.02-.2 1.41-.59l7.78-7.78 2.81-2.81c.8-.78.8-2.07 0-2.86zM5.41 20L4 18.59l7.72-7.72 1.47 1.35L5.41 20z\"/>\n",
              "  </svg>\n",
              "      </button>\n",
              "      \n",
              "  <style>\n",
              "    .colab-df-container {\n",
              "      display:flex;\n",
              "      flex-wrap:wrap;\n",
              "      gap: 12px;\n",
              "    }\n",
              "\n",
              "    .colab-df-convert {\n",
              "      background-color: #E8F0FE;\n",
              "      border: none;\n",
              "      border-radius: 50%;\n",
              "      cursor: pointer;\n",
              "      display: none;\n",
              "      fill: #1967D2;\n",
              "      height: 32px;\n",
              "      padding: 0 0 0 0;\n",
              "      width: 32px;\n",
              "    }\n",
              "\n",
              "    .colab-df-convert:hover {\n",
              "      background-color: #E2EBFA;\n",
              "      box-shadow: 0px 1px 2px rgba(60, 64, 67, 0.3), 0px 1px 3px 1px rgba(60, 64, 67, 0.15);\n",
              "      fill: #174EA6;\n",
              "    }\n",
              "\n",
              "    [theme=dark] .colab-df-convert {\n",
              "      background-color: #3B4455;\n",
              "      fill: #D2E3FC;\n",
              "    }\n",
              "\n",
              "    [theme=dark] .colab-df-convert:hover {\n",
              "      background-color: #434B5C;\n",
              "      box-shadow: 0px 1px 3px 1px rgba(0, 0, 0, 0.15);\n",
              "      filter: drop-shadow(0px 1px 2px rgba(0, 0, 0, 0.3));\n",
              "      fill: #FFFFFF;\n",
              "    }\n",
              "  </style>\n",
              "\n",
              "      <script>\n",
              "        const buttonEl =\n",
              "          document.querySelector('#df-4606cd4e-1dc5-4be0-8c9a-dce5ef7b828e button.colab-df-convert');\n",
              "        buttonEl.style.display =\n",
              "          google.colab.kernel.accessAllowed ? 'block' : 'none';\n",
              "\n",
              "        async function convertToInteractive(key) {\n",
              "          const element = document.querySelector('#df-4606cd4e-1dc5-4be0-8c9a-dce5ef7b828e');\n",
              "          const dataTable =\n",
              "            await google.colab.kernel.invokeFunction('convertToInteractive',\n",
              "                                                     [key], {});\n",
              "          if (!dataTable) return;\n",
              "\n",
              "          const docLinkHtml = 'Like what you see? Visit the ' +\n",
              "            '<a target=\"_blank\" href=https://colab.research.google.com/notebooks/data_table.ipynb>data table notebook</a>'\n",
              "            + ' to learn more about interactive tables.';\n",
              "          element.innerHTML = '';\n",
              "          dataTable['output_type'] = 'display_data';\n",
              "          await google.colab.output.renderOutput(dataTable, element);\n",
              "          const docLink = document.createElement('div');\n",
              "          docLink.innerHTML = docLinkHtml;\n",
              "          element.appendChild(docLink);\n",
              "        }\n",
              "      </script>\n",
              "    </div>\n",
              "  </div>\n",
              "  "
            ],
            "text/plain": [
              "Empty DataFrame\n",
              "Columns: [name, optimizer, epochs, num_hidden_layers, dataset, accuracy]\n",
              "Index: []"
            ]
          },
          "execution_count": 22,
          "metadata": {},
          "output_type": "execute_result"
        }
      ],
      "source": [
        "df_exp"
      ]
    },
    {
      "cell_type": "code",
      "execution_count": null,
      "metadata": {
        "colab": {
          "background_save": true,
          "base_uri": "https://localhost:8080/"
        },
        "id": "0-eeKybFFV0u",
        "outputId": "b7200a1f-3ca7-4b0f-ee2f-19913af63fe7"
      },
      "outputs": [
        {
          "name": "stderr",
          "output_type": "stream",
          "text": [
            "/usr/local/lib/python3.7/dist-packages/ipykernel_launcher.py:9: DeprecationWarning: KerasClassifier is deprecated, use Sci-Keras (https://github.com/adriangb/scikeras) instead. See https://www.adriangb.com/scikeras/stable/migration.html for help migrating.\n",
            "  if __name__ == '__main__':\n"
          ]
        },
        {
          "name": "stdout",
          "output_type": "stream",
          "text": [
            "158/158 [==============================] - 0s 1ms/step\n",
            "158/158 [==============================] - 0s 1ms/step\n",
            "158/158 [==============================] - 0s 1ms/step\n",
            "158/158 [==============================] - 0s 1ms/step\n",
            "158/158 [==============================] - 0s 1ms/step\n",
            "158/158 [==============================] - 0s 1ms/step\n",
            "158/158 [==============================] - 0s 1ms/step\n",
            "158/158 [==============================] - 0s 1ms/step\n",
            "158/158 [==============================] - 0s 1ms/step\n",
            "158/158 [==============================] - 0s 1ms/step\n",
            "158/158 [==============================] - 0s 1ms/step\n",
            "158/158 [==============================] - 0s 1ms/step\n",
            "158/158 [==============================] - 0s 1ms/step\n",
            "158/158 [==============================] - 0s 1ms/step\n",
            "158/158 [==============================] - 0s 1ms/step\n",
            "158/158 [==============================] - 0s 1ms/step\n",
            "158/158 [==============================] - 0s 1ms/step\n",
            "158/158 [==============================] - 0s 1ms/step\n",
            "158/158 [==============================] - 0s 1ms/step\n",
            "158/158 [==============================] - 0s 1ms/step\n",
            "158/158 [==============================] - 0s 1ms/step\n",
            "158/158 [==============================] - 0s 1ms/step\n",
            "158/158 [==============================] - 0s 1ms/step\n",
            "158/158 [==============================] - 0s 1ms/step\n",
            "158/158 [==============================] - 0s 1ms/step\n",
            "158/158 [==============================] - 0s 1ms/step\n",
            "158/158 [==============================] - 0s 1ms/step\n",
            "158/158 [==============================] - 0s 1ms/step\n",
            "158/158 [==============================] - 0s 1ms/step\n",
            "158/158 [==============================] - 0s 1ms/step\n",
            "158/158 [==============================] - 0s 1ms/step\n",
            "158/158 [==============================] - 0s 1ms/step\n",
            "158/158 [==============================] - 0s 1ms/step\n",
            "158/158 [==============================] - 0s 1ms/step\n",
            "158/158 [==============================] - 0s 1ms/step\n",
            "158/158 [==============================] - 0s 1ms/step\n",
            "158/158 [==============================] - 0s 1ms/step\n",
            "158/158 [==============================] - 0s 1ms/step\n",
            "158/158 [==============================] - 0s 1ms/step\n",
            "158/158 [==============================] - 0s 1ms/step\n",
            "158/158 [==============================] - 0s 1ms/step\n",
            "158/158 [==============================] - 0s 1ms/step\n",
            "158/158 [==============================] - 0s 1ms/step\n",
            "158/158 [==============================] - 0s 1ms/step\n",
            "158/158 [==============================] - 0s 1ms/step\n",
            "158/158 [==============================] - 0s 1ms/step\n",
            "158/158 [==============================] - 0s 1ms/step\n",
            "158/158 [==============================] - 0s 1ms/step\n",
            "158/158 [==============================] - 0s 1ms/step\n",
            "158/158 [==============================] - 0s 1ms/step\n",
            "158/158 [==============================] - 0s 1ms/step\n",
            "158/158 [==============================] - 0s 1ms/step\n",
            "158/158 [==============================] - 0s 1ms/step\n",
            "158/158 [==============================] - 0s 1ms/step\n",
            "158/158 [==============================] - 0s 1ms/step\n",
            "158/158 [==============================] - 0s 1ms/step\n",
            "158/158 [==============================] - 0s 1ms/step\n",
            "158/158 [==============================] - 0s 1ms/step\n",
            "158/158 [==============================] - 0s 1ms/step\n",
            "158/158 [==============================] - 0s 1ms/step\n"
          ]
        }
      ],
      "source": [
        "from sklearn.model_selection import GridSearchCV\n",
        "def build_classifier(optimizer):\n",
        "    classifier = Sequential()\n",
        "    classifier.add(Dense(units = 5, kernel_initializer = 'uniform', activation = 'relu', input_dim = 10))\n",
        "    classifier.add(Dense(units = 5, kernel_initializer = 'uniform', activation = 'relu'))\n",
        "    classifier.add(Dense(units = 1, kernel_initializer = 'uniform', activation = 'sigmoid'))\n",
        "    classifier.compile(optimizer = optimizer, loss = 'binary_crossentropy', metrics = ['accuracy'])\n",
        "    return classifier\n",
        "classifier = KerasClassifier(build_fn = build_classifier)\n",
        "parameters = {'batch_size': [16, 32],\n",
        "              'epochs': [20, 30, 50, 100],\n",
        "              'optimizer': ['adam']}\n",
        "grid_search = GridSearchCV(estimator = classifier,\n",
        "                           param_grid = parameters,\n",
        "                           scoring = 'accuracy',\n",
        "                           cv = 10)\n",
        "grid_search = grid_search.fit(x_train, y_train,verbose = 0)\n",
        "best_parameters = grid_search.best_params_\n",
        "best_accuracy = grid_search.best_score_"
      ]
    },
    {
      "cell_type": "code",
      "execution_count": null,
      "metadata": {
        "id": "I9gUckZ6Pymw"
      },
      "outputs": [],
      "source": [
        "print('Best Parameters: {}'.format(best_parameters))\n",
        "print('Best Accuracy: {}'.format(best_accuracy))"
      ]
    },
    {
      "cell_type": "code",
      "execution_count": null,
      "metadata": {
        "id": "wKfmlW2TfsrJ"
      },
      "outputs": [],
      "source": [
        "# df_exp.to_csv(path+\"anns_df_exp\"+datetime.now().strftime('%Y-%m-%d')+\".csv\", header=True, index=False)"
      ]
    }
  ],
  "metadata": {
    "colab": {
      "collapsed_sections": [],
      "toc_visible": true,
      "provenance": [],
      "include_colab_link": true
    },
    "kernelspec": {
      "display_name": "Python 3",
      "name": "python3"
    },
    "language_info": {
      "name": "python"
    }
  },
  "nbformat": 4,
  "nbformat_minor": 0
}